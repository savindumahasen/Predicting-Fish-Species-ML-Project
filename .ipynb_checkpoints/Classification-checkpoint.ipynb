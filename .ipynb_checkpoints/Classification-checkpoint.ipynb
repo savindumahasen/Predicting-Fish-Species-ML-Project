{
 "cells": [
  {
   "cell_type": "code",
   "execution_count": 1,
   "id": "47cc7e99-51fc-4448-aebd-d2e72950961b",
   "metadata": {},
   "outputs": [],
   "source": [
    "## Import the necessary libraries"
   ]
  },
  {
   "cell_type": "code",
   "execution_count": 3,
   "id": "d92a29e9-b107-4865-a801-b70e30d7266c",
   "metadata": {},
   "outputs": [
    {
     "name": "stderr",
     "output_type": "stream",
     "text": [
      "\u001b[32m\u001b[1m   Resolving\u001b[22m\u001b[39m package versions...\n",
      "\u001b[32m\u001b[1m  No Changes\u001b[22m\u001b[39m to `C:\\Users\\THIS PC\\.julia\\environments\\v1.10\\Project.toml`\n",
      "\u001b[32m\u001b[1m  No Changes\u001b[22m\u001b[39m to `C:\\Users\\THIS PC\\.julia\\environments\\v1.10\\Manifest.toml`\n",
      "\u001b[32m\u001b[1m   Resolving\u001b[22m\u001b[39m package versions...\n",
      "\u001b[32m\u001b[1m  No Changes\u001b[22m\u001b[39m to `C:\\Users\\THIS PC\\.julia\\environments\\v1.10\\Project.toml`\n",
      "\u001b[32m\u001b[1m  No Changes\u001b[22m\u001b[39m to `C:\\Users\\THIS PC\\.julia\\environments\\v1.10\\Manifest.toml`\n",
      "\u001b[32m\u001b[1m   Resolving\u001b[22m\u001b[39m package versions...\n",
      "\u001b[32m\u001b[1m  No Changes\u001b[22m\u001b[39m to `C:\\Users\\THIS PC\\.julia\\environments\\v1.10\\Project.toml`\n",
      "\u001b[32m\u001b[1m  No Changes\u001b[22m\u001b[39m to `C:\\Users\\THIS PC\\.julia\\environments\\v1.10\\Manifest.toml`\n",
      "\u001b[32m\u001b[1m   Resolving\u001b[22m\u001b[39m package versions...\n",
      "\u001b[32m\u001b[1m  No Changes\u001b[22m\u001b[39m to `C:\\Users\\THIS PC\\.julia\\environments\\v1.10\\Project.toml`\n",
      "\u001b[32m\u001b[1m  No Changes\u001b[22m\u001b[39m to `C:\\Users\\THIS PC\\.julia\\environments\\v1.10\\Manifest.toml`\n",
      "\u001b[32m\u001b[1m   Resolving\u001b[22m\u001b[39m package versions...\n",
      "\u001b[32m\u001b[1m  No Changes\u001b[22m\u001b[39m to `C:\\Users\\THIS PC\\.julia\\environments\\v1.10\\Project.toml`\n",
      "\u001b[32m\u001b[1m  No Changes\u001b[22m\u001b[39m to `C:\\Users\\THIS PC\\.julia\\environments\\v1.10\\Manifest.toml`\n"
     ]
    }
   ],
   "source": [
    "using Pkg\n",
    "Pkg.add(\"DataFrames\")\n",
    "Pkg.add(\"CSV\")\n",
    "Pkg.add(\"MLJ\")\n",
    "Pkg.add(\"MLJBase\")\n",
    "Pkg.add(\"DecisionTree\")"
   ]
  },
  {
   "cell_type": "code",
   "execution_count": 5,
   "id": "b37f2b5e-bc8b-40b1-ba80-51662821ed2d",
   "metadata": {},
   "outputs": [
    {
     "name": "stderr",
     "output_type": "stream",
     "text": [
      "\u001b[32m\u001b[1m   Resolving\u001b[22m\u001b[39m package versions...\n",
      "\u001b[32m\u001b[1m  No Changes\u001b[22m\u001b[39m to `C:\\Users\\THIS PC\\.julia\\environments\\v1.10\\Project.toml`\n",
      "\u001b[32m\u001b[1m  No Changes\u001b[22m\u001b[39m to `C:\\Users\\THIS PC\\.julia\\environments\\v1.10\\Manifest.toml`\n"
     ]
    }
   ],
   "source": [
    "Pkg.add(\"CSV\")"
   ]
  },
  {
   "cell_type": "code",
   "execution_count": 10,
   "id": "74d77ba4-4665-4a8c-abb7-a58d85a27205",
   "metadata": {},
   "outputs": [
    {
     "data": {
      "text/html": [
       "<div><div style = \"float: left;\"><span>5×4 DataFrame</span></div><div style = \"clear: both;\"></div></div><div class = \"data-frame\" style = \"overflow-x: scroll;\"><table class = \"data-frame\" style = \"margin-bottom: 6px;\"><thead><tr class = \"header\"><th class = \"rowNumber\" style = \"font-weight: bold; text-align: right;\">Row</th><th style = \"text-align: left;\">species</th><th style = \"text-align: left;\">length</th><th style = \"text-align: left;\">weight</th><th style = \"text-align: left;\">w_l_ratio</th></tr><tr class = \"subheader headerLastRow\"><th class = \"rowNumber\" style = \"font-weight: bold; text-align: right;\"></th><th title = \"String31\" style = \"text-align: left;\">String31</th><th title = \"Float64\" style = \"text-align: left;\">Float64</th><th title = \"Float64\" style = \"text-align: left;\">Float64</th><th title = \"Float64\" style = \"text-align: left;\">Float64</th></tr></thead><tbody><tr><td class = \"rowNumber\" style = \"font-weight: bold; text-align: right;\">1</td><td style = \"text-align: left;\">Anabas testudineus</td><td style = \"text-align: right;\">10.66</td><td style = \"text-align: right;\">3.45</td><td style = \"text-align: right;\">0.32</td></tr><tr><td class = \"rowNumber\" style = \"font-weight: bold; text-align: right;\">2</td><td style = \"text-align: left;\">Anabas testudineus</td><td style = \"text-align: right;\">6.91</td><td style = \"text-align: right;\">3.27</td><td style = \"text-align: right;\">0.47</td></tr><tr><td class = \"rowNumber\" style = \"font-weight: bold; text-align: right;\">3</td><td style = \"text-align: left;\">Anabas testudineus</td><td style = \"text-align: right;\">8.38</td><td style = \"text-align: right;\">3.46</td><td style = \"text-align: right;\">0.41</td></tr><tr><td class = \"rowNumber\" style = \"font-weight: bold; text-align: right;\">4</td><td style = \"text-align: left;\">Anabas testudineus</td><td style = \"text-align: right;\">7.57</td><td style = \"text-align: right;\">3.36</td><td style = \"text-align: right;\">0.44</td></tr><tr><td class = \"rowNumber\" style = \"font-weight: bold; text-align: right;\">5</td><td style = \"text-align: left;\">Anabas testudineus</td><td style = \"text-align: right;\">10.83</td><td style = \"text-align: right;\">3.38</td><td style = \"text-align: right;\">0.31</td></tr></tbody></table></div>"
      ],
      "text/latex": [
       "\\begin{tabular}{r|cccc}\n",
       "\t& species & length & weight & w\\_l\\_ratio\\\\\n",
       "\t\\hline\n",
       "\t& String31 & Float64 & Float64 & Float64\\\\\n",
       "\t\\hline\n",
       "\t1 & Anabas testudineus & 10.66 & 3.45 & 0.32 \\\\\n",
       "\t2 & Anabas testudineus & 6.91 & 3.27 & 0.47 \\\\\n",
       "\t3 & Anabas testudineus & 8.38 & 3.46 & 0.41 \\\\\n",
       "\t4 & Anabas testudineus & 7.57 & 3.36 & 0.44 \\\\\n",
       "\t5 & Anabas testudineus & 10.83 & 3.38 & 0.31 \\\\\n",
       "\\end{tabular}\n"
      ],
      "text/plain": [
       "\u001b[1m5×4 DataFrame\u001b[0m\n",
       "\u001b[1m Row \u001b[0m│\u001b[1m species            \u001b[0m\u001b[1m length  \u001b[0m\u001b[1m weight  \u001b[0m\u001b[1m w_l_ratio \u001b[0m\n",
       "     │\u001b[90m String31           \u001b[0m\u001b[90m Float64 \u001b[0m\u001b[90m Float64 \u001b[0m\u001b[90m Float64   \u001b[0m\n",
       "─────┼─────────────────────────────────────────────────\n",
       "   1 │ Anabas testudineus    10.66     3.45       0.32\n",
       "   2 │ Anabas testudineus     6.91     3.27       0.47\n",
       "   3 │ Anabas testudineus     8.38     3.46       0.41\n",
       "   4 │ Anabas testudineus     7.57     3.36       0.44\n",
       "   5 │ Anabas testudineus    10.83     3.38       0.31"
      ]
     },
     "execution_count": 10,
     "metadata": {},
     "output_type": "execute_result"
    }
   ],
   "source": [
    "## import and read the dataset\n",
    "using CSV\n",
    "using DataFrames\n",
    "\n",
    "data_set = CSV.read(\"fish_data.csv\", DataFrame)\n",
    "first(data_set, 5)"
   ]
  },
  {
   "cell_type": "code",
   "execution_count": null,
   "id": "0de9dec4-0f45-432f-8078-802b0669b8b4",
   "metadata": {},
   "outputs": [],
   "source": []
  }
 ],
 "metadata": {
  "kernelspec": {
   "display_name": "Julia 1.10.5",
   "language": "julia",
   "name": "julia-1.10"
  },
  "language_info": {
   "file_extension": ".jl",
   "mimetype": "application/julia",
   "name": "julia",
   "version": "1.10.5"
  }
 },
 "nbformat": 4,
 "nbformat_minor": 5
}
